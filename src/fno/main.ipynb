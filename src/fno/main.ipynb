{
 "cells": [
  {
   "cell_type": "code",
   "execution_count": 1,
   "metadata": {
    "tags": []
   },
   "outputs": [
    {
     "name": "stdout",
     "output_type": "stream",
     "text": [
      "C:\\Users\\erikn\n",
      "C:\\Users\\erikn\\skola\\Fourier-Neural-Operator\\src\\fno\\model\n"
     ]
    }
   ],
   "source": [
    "import yaml\n",
    "import numpy as np\n",
    "import torch\n",
    "import lightning as L\n",
    "from lightning.pytorch.callbacks import RichModelSummary, DeviceStatsMonitor, EarlyStopping, ModelCheckpoint\n",
    "import wandb\n",
    "from lightning.pytorch.loggers import WandbLogger\n",
    "import matplotlib.pyplot as plt\n",
    "# torch.cuda.empty_cache()\n",
    "import os\n",
    "# os.environ[\"CUDA_LAUNCH_BLOCKING\"] = \"1\" # only when profiling\n",
    "\n",
    "pathToProject = 'skola/Fourier-Neural-Operator'\n",
    "gpu = False # Set to true if CUDA is available\n",
    "\n",
    "%cd \n",
    "%cd $pathToProject/src/fno/model\n",
    "from Utilities import *\n",
    "from FNOModel import *"
   ]
  },
  {
   "cell_type": "code",
   "execution_count": 2,
   "metadata": {
    "tags": []
   },
   "outputs": [
    {
     "name": "stdout",
     "output_type": "stream",
     "text": [
      "C:\\Users\\erikn\n",
      "C:\\Users\\erikn\\skola\\Fourier-Neural-Operator\\src\\fno\\configs\n"
     ]
    }
   ],
   "source": [
    "# Import configurations\n",
    "\n",
    "%cd\n",
    "%cd $pathToProject/src/fno/configs\n",
    "# path = 'NavierStokes_V1e-3_N5000_T50_32x32-N5000.yml'\n",
    "path = 'NavierStokes_V1e-3_N5000_T50_32x32-N40.yml'\n",
    "\n",
    "with open(path) as file:\n",
    "    vars = yaml.load(file, Loader=yaml.FullLoader)\n",
    "    globals().update(vars)"
   ]
  },
  {
   "cell_type": "code",
   "execution_count": 3,
   "metadata": {
    "tags": []
   },
   "outputs": [
    {
     "name": "stdout",
     "output_type": "stream",
     "text": [
      "C:\\Users\\erikn\n",
      "C:\\Users\\erikn\\skola\\Fourier-Neural-Operator\n"
     ]
    },
    {
     "name": "stderr",
     "output_type": "stream",
     "text": [
      "c:\\Users\\erikn\\AppData\\Local\\Programs\\Python\\Python310\\lib\\site-packages\\torch\\utils\\data\\dataloader.py:560: UserWarning: This DataLoader will create 12 worker processes in total. Our suggested max number of worker in current system is 4 (`cpuset` is not taken into account), which is smaller than what this DataLoader is going to create. Please be aware that excessive worker creation might get DataLoader running slow or even freeze, lower the worker number to avoid potential slowness/freeze if necessary.\n",
      "  warnings.warn(_create_warning_msg(\n"
     ]
    }
   ],
   "source": [
    "# Instantiate FNO and data loaders\n",
    "\n",
    "%cd\n",
    "%cd $pathToProject\n",
    "train_loader, val_loader, test_loader = npyToTorchDataLoader(DATA_PATH, batchSize=batch_size, normalize=True, timeDistribution=timeDistribution, distribution=distribution)\n",
    "time_steps_x = train_loader.dataset[0][0].shape[-1]\n",
    "input_size = time_steps_x + len(('x', 'y', 't'))\n",
    "restart_at_epoch_n = epochs // (2 * n_restarts + 1) # Moved up 1 cell so we can restart Kernel and load an old model without training\n",
    "fno_model = FNOModel(in_neurons, hidden_neurons, out_neurons, modesSpace, modesTime, time_padding, input_size, learning_rate, restart_at_epoch_n, train_loader, loss_function)"
   ]
  },
  {
   "cell_type": "code",
   "execution_count": null,
   "metadata": {},
   "outputs": [],
   "source": [
    "# Train FNO\n",
    "\n",
    "# You have to login to wandb to run the script (wandb logs the training). Follow these steps to proceed:\n",
    "# 1. Create an account on wandb.ai and copy your personal API key\n",
    "# 2. Prompt the terminal: wandb login\n",
    "# 3. Paste your API key and hit enter\n",
    "\n",
    "'''\n",
    "wandb_logger = WandbLogger(project='Fourier Neural Operator')\n",
    "wandb_logger.experiment.config[\"batch_size\"] = batch_size\n",
    "\n",
    "print('Number of parameters: ', count_params(fno_model))\n",
    "checkpoint_callback = ModelCheckpoint(save_top_k=1, monitor='val_' + loss_function + '_loss', mode=\"min\")\n",
    "early_stopping = EarlyStopping(monitor='val_' + loss_function + '_loss', patience=12)\n",
    "CALLBACKS=[checkpoint_callback, early_stopping]\n",
    "trainer = L.Trainer(accelerator=\"auto\", devices=\"auto\", strategy=\"auto\", max_epochs=epochs, callbacks=CALLBACKS, logger=wandb_logger) #DeviceStatsMonitor(cpu_stats=True)\n",
    "trainer.fit(fno_model, train_loader, val_loader)\n",
    "\n",
    "wandb.finish()\n",
    "'''"
   ]
  },
  {
   "cell_type": "code",
   "execution_count": 11,
   "metadata": {},
   "outputs": [
    {
     "name": "stdout",
     "output_type": "stream",
     "text": [
      "C:\\Users\\erikn\n",
      "C:\\Users\\erikn\\skola\\Fourier-Neural-Operator\\src\\fno\\model\n"
     ]
    }
   ],
   "source": [
    "# Save trained FNO\n",
    "\n",
    "'''\n",
    "%cd\n",
    "%cd $pathToProject/src/fno/model\n",
    "model = 'trained-model-32x32-500epoch-v1-3-n4'\n",
    "trainer.save_checkpoint('model-checkpoint/'+model+'.ckpt')\n",
    "torch.save(fno_model.state_dict(), \"model-state-dicts/\"+model+\".pt\")\n",
    "'''"
   ]
  },
  {
   "cell_type": "code",
   "execution_count": null,
   "metadata": {
    "tags": []
   },
   "outputs": [],
   "source": [
    "# Test trained FNO\n",
    "\n",
    "# trainer.test(fno_model, dataloaders=test_loader)"
   ]
  },
  {
   "cell_type": "code",
   "execution_count": 4,
   "metadata": {
    "tags": []
   },
   "outputs": [
    {
     "name": "stdout",
     "output_type": "stream",
     "text": [
      "C:\\Users\\erikn\n",
      "C:\\Users\\erikn\\skola\\Fourier-Neural-Operator\\src\\fno\\model\\model-state-dicts\n"
     ]
    }
   ],
   "source": [
    "# Instantiate saved FNO\n",
    "\n",
    "%cd\n",
    "%cd $pathToProject/src/fno/model/model-state-dicts\n",
    "loaded_model = FNOModel(in_neurons, hidden_neurons, out_neurons, modesSpace, modesTime, time_padding, input_size, learning_rate, restart_at_epoch_n, train_loader, loss_function)\n",
    "loaded_model.load_state_dict(torch.load(\"trained-model-32x32-500epoch-v1-3-n3.pt\")) # This is our best trained model\n",
    "del train_loader\n",
    "del val_loader\n",
    "del test_loader"
   ]
  },
  {
   "cell_type": "code",
   "execution_count": 6,
   "metadata": {
    "tags": []
   },
   "outputs": [
    {
     "name": "stderr",
     "output_type": "stream",
     "text": [
      "c:\\Users\\erikn\\AppData\\Local\\Programs\\Python\\Python310\\lib\\site-packages\\lightning\\pytorch\\trainer\\connectors\\accelerator_connector.py:508: UserWarning: You passed `Trainer(accelerator='cpu', precision='16-mixed')` but AMP with fp16 is not supported on CPU. Using `precision='bf16-mixed'` instead.\n",
      "  rank_zero_warn(\n",
      "Using bfloat16 Automatic Mixed Precision (AMP)\n",
      "GPU available: False, used: False\n",
      "TPU available: False, using: 0 TPU cores\n",
      "IPU available: False, using: 0 IPUs\n",
      "HPU available: False, using: 0 HPUs\n"
     ]
    },
    {
     "name": "stdout",
     "output_type": "stream",
     "text": [
      "C:\\Users\\erikn\n",
      "C:\\Users\\erikn\\skola\\Fourier-Neural-Operator\\src\\data\\datasets\n"
     ]
    },
    {
     "name": "stdout",
     "output_type": "stream",
     "text": [
      "Predicting DataLoader 0:   0%|          | 0/40 [00:00<?, ?it/s]40\n",
      "Predicting DataLoader 0:   2%|▎         | 1/40 [00:08<05:29,  8.45s/it]40\n",
      "Predicting DataLoader 0:   5%|▌         | 2/40 [00:16<05:12,  8.23s/it]40\n",
      "Predicting DataLoader 0:   8%|▊         | 3/40 [00:24<05:06,  8.27s/it]40\n",
      "Predicting DataLoader 0:  10%|█         | 4/40 [00:33<04:59,  8.32s/it]40\n",
      "Predicting DataLoader 0:  12%|█▎        | 5/40 [00:42<04:55,  8.46s/it]40\n",
      "Predicting DataLoader 0:  15%|█▌        | 6/40 [00:51<04:51,  8.57s/it]40\n",
      "Predicting DataLoader 0:  18%|█▊        | 7/40 [00:59<04:41,  8.53s/it]40\n",
      "Predicting DataLoader 0:  20%|██        | 8/40 [01:09<04:39,  8.73s/it]40\n",
      "Predicting DataLoader 0:  22%|██▎       | 9/40 [01:19<04:32,  8.78s/it]40\n",
      "Predicting DataLoader 0:  25%|██▌       | 10/40 [01:28<04:24,  8.83s/it]40\n",
      "Predicting DataLoader 0:  28%|██▊       | 11/40 [01:36<04:13,  8.75s/it]40\n",
      "Predicting DataLoader 0:  30%|███       | 12/40 [01:44<04:04,  8.73s/it]40\n",
      "Predicting DataLoader 0:  32%|███▎      | 13/40 [01:53<03:55,  8.73s/it]40\n",
      "Predicting DataLoader 0:  35%|███▌      | 14/40 [02:03<03:48,  8.80s/it]40\n",
      "Predicting DataLoader 0:  38%|███▊      | 15/40 [02:12<03:40,  8.84s/it]40\n",
      "Predicting DataLoader 0:  40%|████      | 16/40 [02:21<03:31,  8.82s/it]40\n",
      "Predicting DataLoader 0:  42%|████▎     | 17/40 [02:30<03:23,  8.86s/it]40\n",
      "Predicting DataLoader 0:  45%|████▌     | 18/40 [02:39<03:14,  8.86s/it]40\n",
      "Predicting DataLoader 0:  48%|████▊     | 19/40 [02:49<03:07,  8.91s/it]40\n",
      "Predicting DataLoader 0:  50%|█████     | 20/40 [02:59<02:59,  8.95s/it]40\n",
      "Predicting DataLoader 0:  52%|█████▎    | 21/40 [03:07<02:50,  8.95s/it]40\n",
      "Predicting DataLoader 0:  55%|█████▌    | 22/40 [03:16<02:40,  8.94s/it]40\n",
      "Predicting DataLoader 0:  57%|█████▊    | 23/40 [03:25<02:31,  8.93s/it]40\n",
      "Predicting DataLoader 0:  60%|██████    | 24/40 [03:33<02:22,  8.91s/it]40\n",
      "Predicting DataLoader 0:  62%|██████▎   | 25/40 [03:43<02:14,  8.94s/it]40\n",
      "Predicting DataLoader 0:  65%|██████▌   | 26/40 [03:51<02:04,  8.90s/it]40\n",
      "Predicting DataLoader 0:  68%|██████▊   | 27/40 [04:00<01:55,  8.89s/it]40\n",
      "Predicting DataLoader 0:  70%|███████   | 28/40 [04:08<01:46,  8.87s/it]40\n",
      "Predicting DataLoader 0:  72%|███████▎  | 29/40 [04:16<01:37,  8.85s/it]40\n",
      "Predicting DataLoader 0:  75%|███████▌  | 30/40 [04:24<01:28,  8.80s/it]40\n",
      "Predicting DataLoader 0:  78%|███████▊  | 31/40 [04:32<01:19,  8.80s/it]40\n",
      "Predicting DataLoader 0:  80%|████████  | 32/40 [04:41<01:10,  8.80s/it]40\n",
      "Predicting DataLoader 0:  82%|████████▎ | 33/40 [04:49<01:01,  8.79s/it]40\n",
      "Predicting DataLoader 0:  85%|████████▌ | 34/40 [04:57<00:52,  8.76s/it]40\n",
      "Predicting DataLoader 0:  88%|████████▊ | 35/40 [05:05<00:43,  8.74s/it]40\n",
      "Predicting DataLoader 0:  90%|█████████ | 36/40 [05:14<00:34,  8.74s/it]40\n",
      "Predicting DataLoader 0:  92%|█████████▎| 37/40 [05:24<00:26,  8.78s/it]40\n",
      "Predicting DataLoader 0:  95%|█████████▌| 38/40 [05:35<00:17,  8.83s/it]40\n",
      "Predicting DataLoader 0:  98%|█████████▊| 39/40 [05:48<00:08,  8.93s/it]40\n",
      "Predicting DataLoader 0: 100%|██████████| 40/40 [06:00<00:00,  9.01s/it]\n",
      "FNO: average loss: 0.00851534865796566,  95% confidence interval: 0.0023974073119461536\n",
      "Predicting DataLoader 0:   0%|          | 0/40 [00:00<?, ?it/s]40\n",
      "Predicting DataLoader 0:   2%|▎         | 1/40 [00:09<05:58,  9.20s/it]40\n",
      "Predicting DataLoader 0:   5%|▌         | 2/40 [00:18<05:53,  9.31s/it]40\n",
      "Predicting DataLoader 0:   8%|▊         | 3/40 [00:26<05:28,  8.87s/it]40\n",
      "Predicting DataLoader 0:  10%|█         | 4/40 [00:34<05:10,  8.62s/it]40\n",
      "Predicting DataLoader 0:  12%|█▎        | 5/40 [00:42<04:58,  8.53s/it]40\n",
      "Predicting DataLoader 0:  15%|█▌        | 6/40 [00:50<04:44,  8.37s/it]40\n",
      "Predicting DataLoader 0:  18%|█▊        | 7/40 [00:58<04:36,  8.39s/it]40\n",
      "Predicting DataLoader 0:  20%|██        | 8/40 [01:06<04:25,  8.30s/it]40\n",
      "Predicting DataLoader 0:  22%|██▎       | 9/40 [01:15<04:19,  8.38s/it]40\n",
      "Predicting DataLoader 0:  25%|██▌       | 10/40 [01:25<04:17,  8.60s/it]40\n",
      "Predicting DataLoader 0:  28%|██▊       | 11/40 [01:33<04:07,  8.54s/it]40\n",
      "Predicting DataLoader 0:  30%|███       | 12/40 [01:42<03:59,  8.56s/it]40\n",
      "Predicting DataLoader 0:  32%|███▎      | 13/40 [01:50<03:49,  8.51s/it]40\n",
      "Predicting DataLoader 0:  35%|███▌      | 14/40 [01:59<03:41,  8.51s/it]40\n",
      "Predicting DataLoader 0:  38%|███▊      | 15/40 [02:07<03:33,  8.52s/it]40\n",
      "Predicting DataLoader 0:  40%|████      | 16/40 [02:15<03:23,  8.48s/it]40\n",
      "Predicting DataLoader 0:  42%|████▎     | 17/40 [02:23<03:14,  8.46s/it]40\n",
      "Predicting DataLoader 0:  45%|████▌     | 18/40 [02:31<03:05,  8.44s/it]40\n",
      "Predicting DataLoader 0:  48%|████▊     | 19/40 [02:41<02:58,  8.50s/it]40\n",
      "Predicting DataLoader 0:  50%|█████     | 20/40 [02:49<02:49,  8.49s/it]40\n",
      "Predicting DataLoader 0:  52%|█████▎    | 21/40 [02:58<02:41,  8.50s/it]40\n",
      "Predicting DataLoader 0:  55%|█████▌    | 22/40 [03:07<02:33,  8.52s/it]40\n",
      "Predicting DataLoader 0:  57%|█████▊    | 23/40 [03:15<02:24,  8.49s/it]40\n",
      "Predicting DataLoader 0:  60%|██████    | 24/40 [03:24<02:16,  8.51s/it]40\n",
      "Predicting DataLoader 0:  62%|██████▎   | 25/40 [03:33<02:08,  8.54s/it]40\n",
      "Predicting DataLoader 0:  65%|██████▌   | 26/40 [03:41<01:59,  8.51s/it]40\n",
      "Predicting DataLoader 0:  68%|██████▊   | 27/40 [03:48<01:49,  8.46s/it]40\n",
      "Predicting DataLoader 0:  70%|███████   | 28/40 [03:57<01:41,  8.48s/it]40\n",
      "Predicting DataLoader 0:  72%|███████▎  | 29/40 [04:06<01:33,  8.51s/it]40\n",
      "Predicting DataLoader 0:  75%|███████▌  | 30/40 [04:19<01:26,  8.66s/it]40\n",
      "Predicting DataLoader 0:  78%|███████▊  | 31/40 [04:28<01:17,  8.66s/it]40\n",
      "Predicting DataLoader 0:  80%|████████  | 32/40 [04:38<01:09,  8.70s/it]40\n",
      "Predicting DataLoader 0:  82%|████████▎ | 33/40 [04:47<01:01,  8.73s/it]40\n",
      "Predicting DataLoader 0:  85%|████████▌ | 34/40 [04:55<00:52,  8.70s/it]40\n",
      "Predicting DataLoader 0:  88%|████████▊ | 35/40 [05:03<00:43,  8.68s/it]40\n",
      "Predicting DataLoader 0:  90%|█████████ | 36/40 [05:11<00:34,  8.65s/it]40\n",
      "Predicting DataLoader 0:  92%|█████████▎| 37/40 [05:19<00:25,  8.63s/it]40\n",
      "Predicting DataLoader 0:  95%|█████████▌| 38/40 [05:27<00:17,  8.61s/it]40\n",
      "Predicting DataLoader 0:  98%|█████████▊| 39/40 [05:35<00:08,  8.59s/it]40\n",
      "Predicting DataLoader 0: 100%|██████████| 40/40 [05:42<00:00,  8.57s/it]\n",
      "Bicubic interpolation: average loss: 0.00851534865796566,  95% confidence interval: 0.0023974073119461536\n"
     ]
    }
   ],
   "source": [
    "# Evaluate FNO on different spatial resolutions. \n",
    "# A 95% confidence interval is computed here to determine the certainties of the predicitions for both the FNO and a bicubic interpolation.\n",
    "\n",
    "%cd\n",
    "%cd $pathToProject/src/data/datasets\n",
    "DATA_PATH = 't1-t50VorticityZ-32x32-v1e-3-T50-N40.npy'\n",
    "# DATA_PATH = 't1-t50VorticityZ-128x128-v1e-3-T50-N20.npy'\n",
    "# DATA_PATH = 't1-t50VorticityZ-1024x1024-v1e-3-T50-N10.npy'\n",
    "\n",
    "batch_size = 1\n",
    "# torch.cuda.empty_cache()\n",
    "y_hat_upsampled, y_hat_fno, y = CalculateStatistics(DATA_PATH, loaded_model, batchSize=batch_size, gif=False, precision='16-mixed', gpu=gpu)"
   ]
  },
  {
   "cell_type": "code",
   "execution_count": null,
   "metadata": {
    "tags": []
   },
   "outputs": [],
   "source": [
    "# Saving 2 tensors (true, prediction) of one flow of a specified resolution to be able to create gifs\n",
    "\n",
    "%cd\n",
    "%cd $pathToProject/src/data/datasets\n",
    "\n",
    "spatial_res = 32\n",
    "temp_res = 1\n",
    "DATA_PATH = 't1-t50VorticityZ-{}x{}-v1e-3-T50-N40.npy'.format(spatial_res, spatial_res)\n",
    "batch_size = 1\n",
    "gif = True\n",
    "y_hat_upsampled, y_hat_fno, y = CalculateStatistics(DATA_PATH, loaded_model, batchSize=batch_size, precision='32', gif=gif, temporal_pred=False, temp_res=temp_res, gpu=gpu)\n",
    "\n",
    "%cd\n",
    "%cd $pathToProject/src/fno/output-flows\n",
    "if gif:\n",
    "    # torch.save(y_hat_upsampled, 'biqube_{}x{}_result.pt'.format(res,res))\n",
    "    torch.save(y_hat_fno, '{}x{}/fno_{}x{}_result_t{}_TEST.pt'.format(spatial_res, spatial_res, spatial_res, spatial_res, temp_res))    # Predicted flow by FNO\n",
    "    torch.save(y, '{}x{}/true_{}x{}_result_t{}_TEST.pt'.format(spatial_res, spatial_res, spatial_res, spatial_res, temp_res))           # True flow"
   ]
  }
 ],
 "metadata": {
  "kernelspec": {
   "display_name": "Python 3 (ipykernel)",
   "language": "python",
   "name": "python3"
  },
  "language_info": {
   "codemirror_mode": {
    "name": "ipython",
    "version": 3
   },
   "file_extension": ".py",
   "mimetype": "text/x-python",
   "name": "python",
   "nbconvert_exporter": "python",
   "pygments_lexer": "ipython3",
   "version": "3.10.0"
  },
  "toc-showcode": false,
  "toc-showtags": false
 },
 "nbformat": 4,
 "nbformat_minor": 4
}
