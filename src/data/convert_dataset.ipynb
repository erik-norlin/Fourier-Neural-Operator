{
 "cells": [
  {
   "cell_type": "code",
   "execution_count": 1,
   "id": "8b95de67-72d7-48c9-a3a3-609135190452",
   "metadata": {
    "tags": []
   },
   "outputs": [
    {
     "name": "stdout",
     "output_type": "stream",
     "text": [
      "C:\\Users\\erikn\n",
      "C:\\Users\\erikn\\skola\\Fourier-Neural-Operator\\src\\data\\datasets\n"
     ]
    }
   ],
   "source": [
    "import mat73\n",
    "import scipy\n",
    "import numpy as np\n",
    "\n",
    "pathToProject = 'skola/Fourier-Neural-Operator'\n",
    "\n",
    "%cd\n",
    "%cd $pathToProject/src/data/datasets"
   ]
  },
  {
   "cell_type": "code",
   "execution_count": 2,
   "id": "99dafc07-501d-41cc-b1b7-d9dbbf4bffff",
   "metadata": {
    "tags": []
   },
   "outputs": [
    {
     "name": "stdout",
     "output_type": "stream",
     "text": [
      "Dataset is not .mat version 7.3\n"
     ]
    }
   ],
   "source": [
    "try:\n",
    "    dataDict = mat73.loadmat('ns_data.mat')\n",
    "    try:\n",
    "        dataDict = scipy.io.loadmat('ns_data.mat')\n",
    "    except:\n",
    "        print('Dataset is .mat version 7.3')\n",
    "except:\n",
    "    print('Dataset is not .mat version 7.3')"
   ]
  },
  {
   "cell_type": "code",
   "execution_count": 3,
   "id": "aea33a5f-6d56-4a12-a633-1ead7835fa42",
   "metadata": {
    "tags": []
   },
   "outputs": [],
   "source": [
    "dataDict = scipy.io.loadmat('ns_data.mat')\n",
    "a, t, u = dataDict['a'], dataDict['t'], dataDict['u']\n",
    "np.save('ns_test', u)"
   ]
  }
 ],
 "metadata": {
  "kernelspec": {
   "display_name": "Python 3 (ipykernel)",
   "language": "python",
   "name": "python3"
  },
  "language_info": {
   "codemirror_mode": {
    "name": "ipython",
    "version": 3
   },
   "file_extension": ".py",
   "mimetype": "text/x-python",
   "name": "python",
   "nbconvert_exporter": "python",
   "pygments_lexer": "ipython3",
   "version": "3.10.0"
  }
 },
 "nbformat": 4,
 "nbformat_minor": 5
}
